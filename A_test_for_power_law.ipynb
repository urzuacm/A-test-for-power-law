{
  "nbformat": 4,
  "nbformat_minor": 0,
  "metadata": {
    "colab": {
      "provenance": []
    },
    "kernelspec": {
      "name": "python3",
      "display_name": "Python 3"
    },
    "language_info": {
      "name": "python"
    }
  },
  "cells": [
    {
      "cell_type": "markdown",
      "source": [
        "> # **A TEST FOR POWER LAW**\n",
        "\n"
      ],
      "metadata": {
        "id": "IM0B1NFcE5Go"
      }
    },
    {
      "cell_type": "markdown",
      "source": [
        "A test statistic for power-law behavior written both in Python and R"
      ],
      "metadata": {
        "id": "gQymtB2jZHMj"
      }
    },
    {
      "cell_type": "markdown",
      "source": [
        "## **Author**\n",
        "\n",
        "Carlos M. Urzúa, urzuacarlosm@gmail.com"
      ],
      "metadata": {
        "id": "Leuolyo59ZAn"
      }
    },
    {
      "cell_type": "markdown",
      "source": [
        "## **Description**\n",
        "Given a vector *x* of data, the statistic **pwlaw** proposed in Urzúa (2020) can be used to test for power-law behavior. Under the null hypothesis, **pwlaw** is asymptotically distributed as a chi-squared with two degrees of freedom, and so the probability value can be estimated accordingly. But if the number of observations is less or equal than 100, it is suggested to use instead the critical values given in Table 1 of that paper.\n",
        "\n",
        "The vector *x* does not need to be ordered, and only the observations greater or equal than a given value of mu are used to compute the statistic. This is handy because the power-law hypothesis is typically rejected when *mu* (>= minimum element of *x*) is not close to the right tail of the distribution (Clauset et. al. 2019)."
      ],
      "metadata": {
        "id": "mzEYXVW79hWf"
      }
    },
    {
      "cell_type": "markdown",
      "source": [
        "## **Syntax**\n",
        "The call function is simply in Python `pwlaw(x,mu)` and also in R `pwlaw(x,mu)`"
      ],
      "metadata": {
        "id": "fFGfLj9X-RPS"
      }
    },
    {
      "cell_type": "markdown",
      "source": [
        "## **Notes**\n",
        "\n",
        "* The statistical test is locally optimal if the possible alternative\n",
        "distributions are contained in the Pareto Type (IV) family. The last output of the program provides a maximum-likelihood estimate of the shape parameter alpha. If the null hypothesis of power-law behavior cannot be rejected, this estimate may be of some interest. But if the null is rejected, then alpha is not the only parameter that determines the tail of the distribution.\n",
        "\n",
        "* Using the **pwlaw** test statistic, Urzúa (2020) examines four classical data sets: the frequency of occurrence of unique words in Moby Dick; the human populations of US cities; the frequency of occurrence of US family names; and the peak gamma-ray intensity of solar flares. The data sets are publicly available in Clauset (2019).\n",
        "\n",
        "* Zipf's law is a limit case among the distributions that exhibit a power-law behavior. To test for that particular case one could use the lmz statistic proposed in Urzúa (2000)."
      ],
      "metadata": {
        "id": "eVWuObqiXrTw"
      }
    },
    {
      "cell_type": "markdown",
      "source": [
        "## The following code is written in Python\n",
        "\n"
      ],
      "metadata": {
        "id": "GHMqtZunFNSA"
      }
    },
    {
      "cell_type": "markdown",
      "source": [
        "-----"
      ],
      "metadata": {
        "id": "A2Q-_UbOFh8c"
      }
    },
    {
      "cell_type": "code",
      "source": [
        "import numpy as np\n",
        "from scipy import special\n",
        "from scipy.special import digamma\n",
        "from scipy.special import polygamma\n",
        "import scipy.stats as stats\n",
        "import pandas as pd\n",
        "\n",
        "def pwlaw(x,mu):\n",
        "  n = len(x)\n",
        "  t = x/mu\n",
        "  u = np.log(t-1)\n",
        "  alpha= 1/np.mean(np.log(t))\n",
        "  d1= n*alpha / mu - (alpha+1) * np.sum(1/x)\n",
        "  d2 = -n+alpha * np.sum(u) - (alpha+1) * np.sum(u / t)\n",
        "  d = np.array([d1, d2, 0])\n",
        "  p = digamma(alpha)-digamma(1)-1\n",
        "  q = polygamma(1, alpha) + polygamma (1,1)\n",
        "  i1 = alpha/(mu**2 * (alpha+2))\n",
        "  i2 = -(alpha*p+1)/(mu*(alpha+2))\n",
        "  i3 = -1/(mu*(alpha+1))\n",
        "  j2 = (alpha*(p**2+q)+2*(p+1))/(alpha+2)\n",
        "  j3 = p / (alpha+1)\n",
        "  k3 = 1/(alpha**2)\n",
        "  h = np.array([[i1, i2, i3],\n",
        "               [i2, j2, j3],\n",
        "               [i3, j3, k3]])\n",
        "  return np.dot(np.transpose(d), np.linalg.solve(h,d))/n\n"
      ],
      "metadata": {
        "id": "IE_ZaU31Fj2H"
      },
      "execution_count": null,
      "outputs": []
    },
    {
      "cell_type": "markdown",
      "source": [
        "In order to check that the program is well written, you can use the following example using pwlaw function as a module.\n",
        "You can find the frequency of occurrence of unique words in Moby Dick (\"1M.xlsx\") from Clauset (2019) in the following link: https://github.com/urzuacm/A-test-for-power-law/blob/main/1M.xlsx\n",
        "\n",
        "Also, the results of this test are:\n",
        "\n",
        "`pwlaw Result: 189.02085554594953`\n",
        "\n",
        "`P-Value: 0.0`"
      ],
      "metadata": {
        "id": "vPsUGqFsACZw"
      }
    },
    {
      "cell_type": "code",
      "source": [
        "import scipy.stats as stats\n",
        "import power_law as pwlaw\n",
        "import pandas as pd\n",
        "import numpy as np\n",
        "\n",
        "\n",
        "x = np.array(pd.read_excel('1M.xlsx', header = None))\n",
        "mu = 6\n",
        "print(\"pwlaw Result:\", pwlaw.pwlaw(x, mu))\n",
        "print(\"P-Value:\", 1 - stats.chi2.cdf(pwlaw.pwlaw(x, mu), df=2))\n"
      ],
      "metadata": {
        "id": "YYlw_Z3LABMZ"
      },
      "execution_count": null,
      "outputs": []
    },
    {
      "cell_type": "markdown",
      "source": [
        "## The following code is written in R"
      ],
      "metadata": {
        "id": "F04ocd2I_ojU"
      }
    },
    {
      "cell_type": "code",
      "source": [
        "pwlaw = function(x, mu) {\n",
        "  n <- length(x)\n",
        "  t <- x / mu\n",
        "  u <- log(t - 1)\n",
        "  alpha <- 1 / mean(log(t))\n",
        "  d1 <- n * alpha / mu - (alpha + 1) * sum(1 / x)\n",
        "  d2 <- -n + alpha * sum(u) - (alpha + 1) * sum(u / t)\n",
        "  d <- c(d1, d2, 0)\n",
        "  p <- digamma(alpha) - digamma(1) - 1\n",
        "  q <- trigamma(alpha) + trigamma(1)\n",
        "  i1 <- alpha / (mu^2 * (alpha + 2))\n",
        "  i2 <- -(alpha * p + 1) / (mu * (alpha + 2))\n",
        "  i3 <- -1 / (mu * (alpha + 1))\n",
        "  j2 <- (alpha * (p^2 + q) + 2 * (p + 1)) / (alpha + 2)\n",
        "  j3 <- p / (alpha + 1)\n",
        "  k3 <- 1 / alpha^2\n",
        "  h <- matrix(c(i1, i2, i3, i2, j2, j3, i3, j3, k3), nrow = 3)\n",
        "  t(d) %*% solve(h, d) / n\n",
        "}"
      ],
      "metadata": {
        "id": "mSp9zHwt_2EV"
      },
      "execution_count": null,
      "outputs": []
    },
    {
      "cell_type": "markdown",
      "source": [
        "In order to check that the program is well written, you can use the following example calling the pwlaw function. You can find the frequency of occurrence of unique words in Moby Dick (\"1M.xlsx\") from Claueset (2019) in the following link: https://github.com/urzuacm/A-test-for-power-law/blob/main/1M.xlsx\n",
        "\n",
        "Also, the results of this test are:\n",
        "\n",
        "`pwlaw Result: 189.02085554594953`\n",
        "\n",
        "`P-Value: 0.0`"
      ],
      "metadata": {
        "id": "ipCEe7ksAkFw"
      }
    },
    {
      "cell_type": "code",
      "source": [
        "library(readxl)\n",
        "x <- as.matrix(read_excel(\"1M.xlsx\", col_names = FALSE))\n",
        "mu <- 6\n",
        "pwlaw(x, mu)\n",
        "pchisq(pwlaw(x,mu), df=2, lower.tail=FALSE)"
      ],
      "metadata": {
        "id": "NqTKid9nAi6r"
      },
      "execution_count": null,
      "outputs": []
    },
    {
      "cell_type": "markdown",
      "source": [
        "# **Bibliography**\n",
        "\n",
        "* Clauset, A. 2019. Power-law distributions. https://aaronclauset.github.io/powerlaws/\n",
        "\n",
        "* Clauset, A., C. R. Shalizi, and M. E. J. Newman. 2009. Power-law distributions in empirical data. SIAM Review, vol. 51, pp. 661–703.\n",
        "\n",
        "* Urzúa, C. M. 2000. A simple and efficient test for Zipf´s law. Economics Letters, vol. 66, pp. 257-260.\n",
        "\n",
        "* Urzúa, C. M. 2020. A simple test for power-law behavior. Stata Journal, vol. 20, no. 3, pp. 604-612."
      ],
      "metadata": {
        "id": "lFtIerrenQbU"
      }
    }
  ]
}